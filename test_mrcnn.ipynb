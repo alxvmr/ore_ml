{
 "cells": [
  {
   "cell_type": "code",
   "execution_count": 14,
   "id": "eb4d95db",
   "metadata": {},
   "outputs": [],
   "source": [
    "from mrcnn.mrcnn_colab_engine import *\n",
    "import cv2\n",
    "import warnings\n",
    "warnings.filterwarnings('ignore')"
   ]
  },
  {
   "cell_type": "markdown",
   "id": "a98b6cc9",
   "metadata": {},
   "source": [
    "Загрузим веса"
   ]
  },
  {
   "cell_type": "code",
   "execution_count": 3,
   "id": "3280b62e",
   "metadata": {},
   "outputs": [],
   "source": [
    "MODEL_DIR = \"logs/custom/mask_rcnn_experiment_0040.h5\""
   ]
  },
  {
   "cell_type": "code",
   "execution_count": 11,
   "id": "2a875134",
   "metadata": {},
   "outputs": [],
   "source": [
    "config = InferenceConfig()\n",
    "ore_model = modellib.MaskRCNN(mode=\"inference\", model_dir=\"\", config=config)\n",
    "ore_model.load_weights(MODEL_DIR, by_name=True)"
   ]
  },
  {
   "cell_type": "markdown",
   "id": "159aceea",
   "metadata": {},
   "source": [
    "Добавим классы"
   ]
  },
  {
   "cell_type": "code",
   "execution_count": 12,
   "id": "9f3a5e5f",
   "metadata": {},
   "outputs": [],
   "source": [
    "class_names = [\"BG\", \"armature\", \"wood\", \"other\"]\n",
    "# Generate random colors\n",
    "colors = random_colors(len(class_names))"
   ]
  },
  {
   "cell_type": "markdown",
   "id": "91068c47",
   "metadata": {},
   "source": [
    "Выделим объекты на изображении"
   ]
  },
  {
   "cell_type": "code",
   "execution_count": 15,
   "id": "0e28a308",
   "metadata": {},
   "outputs": [
    {
     "ename": "IndexError",
     "evalue": "list index out of range",
     "output_type": "error",
     "traceback": [
      "\u001b[1;31m---------------------------------------------------------------------------\u001b[0m",
      "\u001b[1;31mIndexError\u001b[0m                                Traceback (most recent call last)",
      "\u001b[1;32m~\\AppData\\Local\\Temp\\ipykernel_8656\\249122230.py\u001b[0m in \u001b[0;36m<module>\u001b[1;34m\u001b[0m\n\u001b[0;32m      2\u001b[0m \u001b[1;33m\u001b[0m\u001b[0m\n\u001b[0;32m      3\u001b[0m \u001b[1;31m# 1. Get objects mask with Mask RCNN\u001b[0m\u001b[1;33m\u001b[0m\u001b[1;33m\u001b[0m\u001b[0m\n\u001b[1;32m----> 4\u001b[1;33m \u001b[0mclass_ids\u001b[0m\u001b[1;33m,\u001b[0m \u001b[0mboxes\u001b[0m\u001b[1;33m,\u001b[0m \u001b[0mmasks\u001b[0m \u001b[1;33m=\u001b[0m \u001b[0mdetect_contours_maskrcnn\u001b[0m\u001b[1;33m(\u001b[0m\u001b[0mlego_model\u001b[0m\u001b[1;33m,\u001b[0m \u001b[0mimg\u001b[0m\u001b[1;33m)\u001b[0m\u001b[1;33m\u001b[0m\u001b[0m\n\u001b[0m\u001b[0;32m      5\u001b[0m \u001b[1;32mfor\u001b[0m \u001b[0mclass_id\u001b[0m\u001b[1;33m,\u001b[0m \u001b[0mbox\u001b[0m\u001b[1;33m,\u001b[0m \u001b[0mobject_contours\u001b[0m \u001b[1;32min\u001b[0m \u001b[0mzip\u001b[0m\u001b[1;33m(\u001b[0m\u001b[0mclass_ids\u001b[0m\u001b[1;33m,\u001b[0m \u001b[0mboxes\u001b[0m\u001b[1;33m,\u001b[0m \u001b[0mmasks\u001b[0m\u001b[1;33m)\u001b[0m\u001b[1;33m:\u001b[0m\u001b[1;33m\u001b[0m\u001b[0m\n\u001b[0;32m      6\u001b[0m     \u001b[1;31m# Box\u001b[0m\u001b[1;33m\u001b[0m\u001b[1;33m\u001b[0m\u001b[0m\n",
      "\u001b[1;32m~\\Desktop\\maskrcnn-custom\\mrcnn\\mrcnn_colab_engine.py\u001b[0m in \u001b[0;36mdetect_contours_maskrcnn\u001b[1;34m(model, img)\u001b[0m\n\u001b[0;32m     81\u001b[0m         \u001b[0mcontours\u001b[0m \u001b[1;33m=\u001b[0m \u001b[0mget_mask_contours\u001b[0m\u001b[1;33m(\u001b[0m\u001b[0mmask\u001b[0m\u001b[1;33m)\u001b[0m\u001b[1;33m\u001b[0m\u001b[0m\n\u001b[0;32m     82\u001b[0m         \u001b[0mbboxes\u001b[0m\u001b[1;33m.\u001b[0m\u001b[0mappend\u001b[0m\u001b[1;33m(\u001b[0m\u001b[0mbox\u001b[0m\u001b[1;33m)\u001b[0m\u001b[1;33m\u001b[0m\u001b[0m\n\u001b[1;32m---> 83\u001b[1;33m         \u001b[0mobjects_contours\u001b[0m\u001b[1;33m.\u001b[0m\u001b[0mappend\u001b[0m\u001b[1;33m(\u001b[0m\u001b[0mcontours\u001b[0m\u001b[1;33m[\u001b[0m\u001b[1;36m0\u001b[0m\u001b[1;33m]\u001b[0m\u001b[1;33m)\u001b[0m\u001b[1;33m\u001b[0m\u001b[0m\n\u001b[0m\u001b[0;32m     84\u001b[0m         \u001b[0mobjects_ids\u001b[0m\u001b[1;33m.\u001b[0m\u001b[0mappend\u001b[0m\u001b[1;33m(\u001b[0m\u001b[0mclass_id\u001b[0m\u001b[1;33m)\u001b[0m\u001b[1;33m\u001b[0m\u001b[0m\n\u001b[0;32m     85\u001b[0m     \u001b[1;32mreturn\u001b[0m \u001b[0mobjects_ids\u001b[0m\u001b[1;33m,\u001b[0m \u001b[0mbboxes\u001b[0m\u001b[1;33m,\u001b[0m \u001b[0mobjects_contours\u001b[0m\u001b[1;33m\u001b[0m\u001b[0m\n",
      "\u001b[1;31mIndexError\u001b[0m: list index out of range"
     ]
    }
   ],
   "source": [
    "img = cv2.imread(\"data/test/32645Date_13_08_2019.jpg\")\n",
    "\n",
    "# 1. Get objects mask with Mask RCNN\n",
    "class_ids, boxes, masks = detect_contours_maskrcnn(lego_model, img)\n",
    "for class_id, box, object_contours in zip(class_ids, boxes, masks):\n",
    "    # Box\n",
    "    y1, x1, y2, x2 = box\n",
    "    # cv2.rectangle(img, (x1, y1), (x2, y2), colors[class_id], 15)\n",
    "    cv2.polylines(img, [object_contours], True, colors[class_id], 10)\n",
    "    img = draw_mask(img, [object_contours], colors[class_id])\n",
    "\n",
    "    # 2. Calculate area\n",
    "    #area_px = cv2.contourArea(object_contours)\n",
    "    #area_cm = round(area_px / RATIO_PIXEL_TO_SQUARE_CM, 2)\n",
    "\n",
    "    #cv2.putText(img, \"A: {}cm^2\".format(area_cm), (x1, y1), cv2.FONT_HERSHEY_PLAIN, 3, colors[class_id], 5)\n",
    "\n",
    "\n",
    "cv2_imshow(img)"
   ]
  }
 ],
 "metadata": {
  "kernelspec": {
   "display_name": "Python [conda env:py37] *",
   "language": "python",
   "name": "conda-env-py37-py"
  },
  "language_info": {
   "codemirror_mode": {
    "name": "ipython",
    "version": 3
   },
   "file_extension": ".py",
   "mimetype": "text/x-python",
   "name": "python",
   "nbconvert_exporter": "python",
   "pygments_lexer": "ipython3",
   "version": "3.7.0"
  }
 },
 "nbformat": 4,
 "nbformat_minor": 5
}
